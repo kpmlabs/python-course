{
 "cells": [
  {
   "cell_type": "markdown",
   "metadata": {},
   "source": [
    "# Outline"
   ]
  },
  {
   "cell_type": "markdown",
   "metadata": {},
   "source": [
    "## Object and Data Structure Basics"
   ]
  },
  {
   "cell_type": "markdown",
   "metadata": {},
   "source": [
    " * Numbers \n",
    "```python\n",
    "1, 2.0\n",
    "```\n",
    " * Variable Assignment\n",
    "```python\n",
    "a = 5\n",
    "```\n",
    " * Strings, Formatted Strings\n",
    "```python\n",
    "\"Hello string!\" f\"Hello {name}\"\n",
    "```\n",
    " * List\n",
    "```python\n",
    "[1, 2, 'a', 'ali']\n",
    "```\n",
    " * Dictionaries\n",
    "```python\n",
    "{'name':'Ugur', 'id':3}\n",
    "```\n",
    " * Tuples\n",
    "```python\n",
    "(1, 2, 'a', 'ali')\n",
    "```\n",
    " * Sets and Booleans\n",
    " * Files"
   ]
  },
  {
   "cell_type": "markdown",
   "metadata": {},
   "source": [
    "## Comparison Operators"
   ]
  },
  {
   "cell_type": "markdown",
   "metadata": {},
   "source": [
    " * Operators and Chained operators\n",
    " ```python\n",
    "< >\n",
    "```"
   ]
  },
  {
   "cell_type": "markdown",
   "metadata": {},
   "source": [
    "## Statements"
   ]
  },
  {
   "cell_type": "markdown",
   "metadata": {},
   "source": [
    " * if, elif and else\n",
    "```python\n",
    "if x == 5:\n",
    "    ...\n",
    "```\n",
    " * loops\n",
    "```python\n",
    "while True:\n",
    "    ...\n",
    "```\n",
    " * operators\n",
    " * list comprehensions\n",
    "```python\n",
    "[item for item in items if item > 5]\n",
    "```"
   ]
  },
  {
   "cell_type": "markdown",
   "metadata": {},
   "source": [
    "## Methods and Functions"
   ]
  },
  {
   "cell_type": "markdown",
   "metadata": {},
   "source": [
    " * Methods\n",
    " * Functions\n",
    " ```python\n",
    "def func():\n",
    "    ...\n",
    "```\n",
    " * lambda expressions, map and filter\n",
    "```python\n",
    "lambda x: x**2\n",
    "```\n",
    " * args and kwargs"
   ]
  },
  {
   "cell_type": "markdown",
   "metadata": {},
   "source": [
    "## Object Oriented Programming"
   ]
  },
  {
   "cell_type": "markdown",
   "metadata": {},
   "source": [
    "```python\n",
    "class Person:\n",
    "    def __init__(self):\n",
    "        ...\n",
    "    def height(self):\n",
    "        return self._height\n",
    "      \n",
    "```"
   ]
  },
  {
   "cell_type": "markdown",
   "metadata": {},
   "source": [
    "## Modules and Packages"
   ]
  },
  {
   "cell_type": "markdown",
   "metadata": {},
   "source": [
    "## Errors and Exceptions Handling"
   ]
  },
  {
   "cell_type": "markdown",
   "metadata": {},
   "source": [
    "## Built-in Functions"
   ]
  },
  {
   "cell_type": "markdown",
   "metadata": {},
   "source": [
    " * map\n",
    " * reduce\n",
    " * filter\n",
    " * zip\n",
    " * enumerate\n",
    " * all and any"
   ]
  },
  {
   "cell_type": "markdown",
   "metadata": {},
   "source": [
    "## Decorators"
   ]
  },
  {
   "cell_type": "markdown",
   "metadata": {},
   "source": [
    "```python\n",
    "@uppercase_decorator\n",
    "def say_hi():\n",
    "    return 'hello there'\n",
    "```"
   ]
  },
  {
   "cell_type": "markdown",
   "metadata": {},
   "source": [
    "## Generators"
   ]
  }
 ],
 "metadata": {
  "kernelspec": {
   "display_name": "python-course",
   "language": "python",
   "name": "python-course"
  },
  "language_info": {
   "codemirror_mode": {
    "name": "ipython",
    "version": 3
   },
   "file_extension": ".py",
   "mimetype": "text/x-python",
   "name": "python",
   "nbconvert_exporter": "python",
   "pygments_lexer": "ipython3",
   "version": "3.8.3"
  }
 },
 "nbformat": 4,
 "nbformat_minor": 4
}
